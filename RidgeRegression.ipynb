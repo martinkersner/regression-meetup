{
 "cells": [
  {
   "cell_type": "markdown",
   "metadata": {
    "deletable": true,
    "editable": true
   },
   "source": [
    "# Ridge regression\n",
    "\n",
    "\n",
    "## Seoul Artificial Intelligence Meetup\n",
    "\n",
    "Martin Kersner, <m.kersner@gmail.com>\n",
    "\n",
    "2017/11/11"
   ]
  },
  {
   "cell_type": "markdown",
   "metadata": {
    "deletable": true,
    "editable": true
   },
   "source": [
    "$\\hat{\\beta} = (X^{T}X+\\lambda I)^{-1}X^{T}y$"
   ]
  },
  {
   "cell_type": "code",
   "execution_count": 5,
   "metadata": {
    "collapsed": true,
    "deletable": true,
    "editable": true
   },
   "outputs": [],
   "source": [
    "import numpy as np"
   ]
  },
  {
   "cell_type": "code",
   "execution_count": 28,
   "metadata": {
    "collapsed": true,
    "deletable": true,
    "editable": true
   },
   "outputs": [],
   "source": [
    "def normalize(data, μ=None, δ=None):\n",
    "    # TODO link to standard norm\n",
    "    if not μ or not δ:\n",
    "        μ = np.mean(data, axis=1)\n",
    "        δ = np.std(data, axis=1)\n",
    "\n",
    "    data_norm = (data-μ)/δ\n",
    "\n",
    "    return data_norm, μ, δ"
   ]
  },
  {
   "cell_type": "code",
   "execution_count": 32,
   "metadata": {
    "collapsed": false,
    "deletable": true,
    "editable": true
   },
   "outputs": [],
   "source": [
    "class RidgeRegression(object):\n",
    "    def __init__(self, it=30):\n",
    "        self.λ = None\n",
    "        self.β̂  = None\n",
    "        self.it = it\n",
    "\n",
    "        # normalization parameters\n",
    "        self.μ = None\n",
    "        self.δ = None\n",
    "    \n",
    "        \n",
    "    def _fit_one(self, X, y, λ=0.2):\n",
    "        m = X.shape[0] # number of data points\n",
    "        \n",
    "        XtX_λI = X.T*X + λ*np.eye(m)\n",
    "        \n",
    "        # matrix must be non-singular\n",
    "        assert(np.linalg.det(XtX_λI) != 0.0)\n",
    "        \n",
    "        return XtX_λI*X.T*y\n",
    "\n",
    "\n",
    "    def fit(self, X, y):\n",
    "        X_norm, self.μ, self.δ = normalize(X)\n",
    "        β̂_lst = []\n",
    "        \n",
    "        for i in range(self.it):\n",
    "            λ_tmp = np.exp(i-10) # why 10?\n",
    "            β̂_lst.append(self._fit_one(X_norm, y, λ_tmp))\n",
    "\n",
    "        # TODO evaluate cross validation, R2\n",
    "\n",
    "    def predict(self, X, β̂ ):\n",
    "        X_norm = normalize(X, self.μ, self.δ)\n",
    "        return X_norm*β̂ "
   ]
  },
  {
   "cell_type": "code",
   "execution_count": 12,
   "metadata": {
    "collapsed": false,
    "deletable": true,
    "editable": true
   },
   "outputs": [
    {
     "name": "stdout",
     "output_type": "stream",
     "text": [
      "4\n",
      "4\n"
     ]
    }
   ],
   "source": [
    "a = RidgeRegression()\n",
    "print(a.fit(1,2))\n",
    "print(a.fit(1,2,2))"
   ]
  }
 ],
 "metadata": {
  "kernelspec": {
   "display_name": "Python 3",
   "language": "python",
   "name": "python3"
  },
  "language_info": {
   "codemirror_mode": {
    "name": "ipython",
    "version": 3
   },
   "file_extension": ".py",
   "mimetype": "text/x-python",
   "name": "python",
   "nbconvert_exporter": "python",
   "pygments_lexer": "ipython3",
   "version": "3.6.2"
  }
 },
 "nbformat": 4,
 "nbformat_minor": 2
}
