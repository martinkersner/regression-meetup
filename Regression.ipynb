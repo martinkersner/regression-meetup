{
 "cells": [
  {
   "cell_type": "markdown",
   "metadata": {
    "deletable": true,
    "editable": true
   },
   "source": [
    "# Regression\n",
    "\n",
    "## Seoul Artificial Intelligence Meetup\n",
    "\n",
    "Martin Kersner, <m.kersner@gmail.com>\n",
    "\n",
    "2017/10/14"
   ]
  },
  {
   "cell_type": "markdown",
   "metadata": {
    "deletable": true,
    "editable": true
   },
   "source": [
    "## What is regression?\n",
    "\n",
    "**Classification** - targets are nominal values.\n",
    "\n",
    "**Regression** - targets are numeric and continuous.\n",
    "\n",
    "target = label"
   ]
  },
  {
   "cell_type": "markdown",
   "metadata": {
    "deletable": true,
    "editable": true
   },
   "source": [
    "regression weights\n",
    "\n",
    "linear regression vs non-linear regression\n",
    "\n",
    "linear regression is function of inputs multiplied together\n",
    "\n",
    "linear relationship"
   ]
  },
  {
   "cell_type": "markdown",
   "metadata": {},
   "source": [
    "$y = 1*w_0 + x_1*x_1 + x_2*x_2 + ... + x_n*x_n$\n",
    "\n",
    "$x_0 = 1$ represents constant offset"
   ]
  },
  {
   "cell_type": "markdown",
   "metadata": {
    "deletable": true,
    "editable": true
   },
   "source": [
    "$y$ target\n",
    "\n",
    "$X$ features\n",
    "\n",
    "$w$ weight matrix\n",
    "\n",
    "$y_i = X_{i}^{T}w$\n",
    "\n",
    "find $w$ that minimizes error\n",
    "\n",
    "define error as difference between predicted $y$ and the actual $y$"
   ]
  },
  {
   "cell_type": "markdown",
   "metadata": {
    "deletable": true,
    "editable": true
   },
   "source": [
    "$\\sum_{i=1}^{m}(y_i - x_i^{T}w)^2$\n",
    "\n",
    "$(y-Xw)^{T}(y-Xw)$\n",
    "\n",
    "$X^{T}(y-Xw)$\n",
    "\n",
    "$\\hat{w} = (X^{T}X)^{-1}X^{-T}y$"
   ]
  },
  {
   "cell_type": "markdown",
   "metadata": {
    "deletable": true,
    "editable": true
   },
   "source": [
    "## Matrix inverse\n",
    "\n",
    "Requires to compute **INVERSE MATRIX**.\n",
    "\n",
    "Matrix inverse may not exist.\n",
    "Need to check before."
   ]
  },
  {
   "cell_type": "markdown",
   "metadata": {
    "deletable": true,
    "editable": true
   },
   "source": [
    "## Ordinary least squares"
   ]
  },
  {
   "cell_type": "code",
   "execution_count": 2,
   "metadata": {
    "collapsed": false,
    "deletable": true,
    "editable": true
   },
   "outputs": [],
   "source": [
    "%matplotlib inline\n",
    "\n",
    "import matplotlib\n",
    "import matplotlib.pyplot as plt\n",
    "plt.rcParams['axes.labelsize'] = 14\n",
    "plt.rcParams['xtick.labelsize'] = 12\n",
    "plt.rcParams['ytick.labelsize'] = 12"
   ]
  },
  {
   "cell_type": "code",
   "execution_count": 62,
   "metadata": {
    "collapsed": true,
    "deletable": true,
    "editable": true
   },
   "outputs": [],
   "source": [
    "X = np.matrix([[1, 1], [1,2], [1,3], [1,4], [1,5]])\n",
    "y = np.matrix([[0], [3], [2], [4.5], [8]])"
   ]
  },
  {
   "cell_type": "code",
   "execution_count": 20,
   "metadata": {
    "collapsed": true
   },
   "outputs": [],
   "source": [
    "from sklearn.datasets import load_boston"
   ]
  },
  {
   "cell_type": "code",
   "execution_count": 21,
   "metadata": {
    "collapsed": true
   },
   "outputs": [],
   "source": [
    "boston = load_boston()"
   ]
  },
  {
   "cell_type": "code",
   "execution_count": 24,
   "metadata": {
    "collapsed": false
   },
   "outputs": [
    {
     "data": {
      "text/plain": [
       "(506, 13)"
      ]
     },
     "execution_count": 24,
     "metadata": {},
     "output_type": "execute_result"
    }
   ],
   "source": [
    "boston.data.shape"
   ]
  },
  {
   "cell_type": "code",
   "execution_count": 25,
   "metadata": {
    "collapsed": false
   },
   "outputs": [
    {
     "data": {
      "text/plain": [
       "(506,)"
      ]
     },
     "execution_count": 25,
     "metadata": {},
     "output_type": "execute_result"
    }
   ],
   "source": [
    "boston.target.shape"
   ]
  },
  {
   "cell_type": "code",
   "execution_count": 49,
   "metadata": {
    "collapsed": false
   },
   "outputs": [],
   "source": [
    "# boston.data[:,0]"
   ]
  },
  {
   "cell_type": "code",
   "execution_count": 52,
   "metadata": {
    "collapsed": true,
    "deletable": true,
    "editable": true
   },
   "outputs": [],
   "source": [
    "# modified example from book Machine Learning in Action ()\n",
    "import numpy as np\n",
    "\n",
    "def ols(X, y):\n",
    "    xTx = X.T * X\n",
    "    \n",
    "    # check determinate\n",
    "    if np.linalg.det(xTx) == 0.0:\n",
    "        return None # matrix is singular\n",
    "    else:\n",
    "        return xTx.I * (X.T * y)"
   ]
  },
  {
   "cell_type": "code",
   "execution_count": 68,
   "metadata": {
    "collapsed": false
   },
   "outputs": [],
   "source": [
    "ws = ols(X, y)"
   ]
  },
  {
   "cell_type": "code",
   "execution_count": 83,
   "metadata": {
    "collapsed": false
   },
   "outputs": [],
   "source": [
    "def run_ols(X, y):\n",
    "    ws = ols(X, y)\n",
    "    \n",
    "    fig = plt.figure()\n",
    "    ax = fig.add_subplot(111)\n",
    "    plt.plot(X[:,1], y, 'ro')\n",
    "\n",
    "    xcopy = X.copy()\n",
    "    xcopy.sort(0)\n",
    "    yHat = xcopy*ws\n",
    "    ax.plot(xcopy[:, 1], yHat)\n",
    "    plt.show()\n",
    "    \n",
    "    print(np.corrcoef(np.transpose(y), np.transpose(X*ws)))"
   ]
  },
  {
   "cell_type": "code",
   "execution_count": 84,
   "metadata": {
    "collapsed": false
   },
   "outputs": [
    {
     "data": {
      "image/png": "[encoded data removed]",
      "text/plain": [
       "<matplotlib.figure.Figure at 0x7ff45e127cf8>"
      ]
     },
     "metadata": {},
     "output_type": "display_data"
    },
    {
     "name": "stdout",
     "output_type": "stream",
     "text": [
      "[[ 1.          0.92233098]\n",
      " [ 0.92233098  1.        ]]\n"
     ]
    }
   ],
   "source": [
    "run_ols(X, y)"
   ]
  },
  {
   "cell_type": "markdown",
   "metadata": {},
   "source": [
    "## Evaluation of regression\n",
    "\n",
    "* Correlation\n",
    "* XXX"
   ]
  },
  {
   "cell_type": "markdown",
   "metadata": {},
   "source": [
    "### Correlation\n",
    "\n",
    "np.corrcoef()"
   ]
  },
  {
   "cell_type": "code",
   "execution_count": 80,
   "metadata": {
    "collapsed": false,
    "scrolled": true
   },
   "outputs": [
    {
     "data": {
      "text/plain": [
       "array([[ 1.        ,  0.92233098],\n",
       "       [ 0.92233098,  1.        ]])"
      ]
     },
     "execution_count": 80,
     "metadata": {},
     "output_type": "execute_result"
    }
   ],
   "source": [
    "np.corrcoef(np.transpose(y), np.transpose(X*ws))"
   ]
  },
  {
   "cell_type": "markdown",
   "metadata": {},
   "source": [
    "### Locally weighted linear regression\n",
    "\n",
    "$\\hat{w} = (X^{T}WX)^{-1}X^{T}Wy$\n",
    "\n",
    "$W$ matrix for weighing data points\n",
    "\n",
    "$w(i,i) = exp(\\frac{|x^{i}-x|}{-2k^2})$"
   ]
  },
  {
   "cell_type": "code",
   "execution_count": 93,
   "metadata": {
    "collapsed": true
   },
   "outputs": [],
   "source": [
    "def lwlr(test_point, X, y, k=1.0):\n",
    "    m = X.shape[0]\n",
    "    W = np.eye((m))\n",
    "    \n",
    "    for j in range(m):\n",
    "        diff_mat = test_point - X[j,:]\n",
    "        W[j,j] = np.exp(diff_mat*diff_mat.T/(-2.0*k**2))\n",
    "\n",
    "    xtx = X.T * (W * X)\n",
    "    \n",
    "    if np.linalg.det(xtx) == 0.0:\n",
    "        return None # matrix is singular\n",
    "    else:\n",
    "        ws = xtx.I * (X.T * (W * y))\n",
    "        return test_point * ws\n",
    "\n",
    "def lwlr_test(test_arr, X, y, k=1.0):\n",
    "    m = test_arr.shape[0]\n",
    "    y_hat = np.zeros(m)\n",
    "    for i in range(m):\n",
    "        y_hat[i] = lwlr(test_arr[i], X, y, k)\n",
    "    \n",
    "    return y_hat"
   ]
  },
  {
   "cell_type": "code",
   "execution_count": 95,
   "metadata": {
    "collapsed": false
   },
   "outputs": [],
   "source": [
    "y_hat = lwlr_test(X, X, y, 1.0)"
   ]
  },
  {
   "cell_type": "code",
   "execution_count": 99,
   "metadata": {
    "collapsed": false
   },
   "outputs": [
    {
     "data": {
      "text/plain": [
       "[<matplotlib.lines.Line2D at 0x7ff45defb5c0>]"
      ]
     },
     "execution_count": 99,
     "metadata": {},
     "output_type": "execute_result"
    },
    {
     "data": {
      "image/png": "[encoded data removed]",
      "text/plain": [
       "<matplotlib.figure.Figure at 0x7ff45e3ef7f0>"
      ]
     },
     "metadata": {},
     "output_type": "display_data"
    }
   ],
   "source": [
    "srt_idx = X[:, 1].argsort(0)\n",
    "x_sort = X[srt_idx][:, 0, :]\n",
    "\n",
    "fig = plt.figure()\n",
    "ax = fig.add_subplot(111)\n",
    "ax.plot(x_sort[:, 1], y_hat[srt_idx])\n",
    "ax.plot(X[:,1], y, 'ro')"
   ]
  },
  {
   "cell_type": "markdown",
   "metadata": {},
   "source": [
    "## Shrinkage methods"
   ]
  },
  {
   "cell_type": "markdown",
   "metadata": {},
   "source": [
    "If more features ($x$)than data points ($m$), we cannot compute $(X^{T}X)^{-1}$.\n",
    "\n",
    "Then, data matrix isn't full rank."
   ]
  },
  {
   "cell_type": "markdown",
   "metadata": {},
   "source": [
    "### Ridge regression\n",
    "\n"
   ]
  },
  {
   "cell_type": "markdown",
   "metadata": {},
   "source": [
    "### Lasso"
   ]
  },
  {
   "cell_type": "markdown",
   "metadata": {},
   "source": [
    "### Forward Stagewise regression"
   ]
  }
 ],
 "metadata": {
  "kernelspec": {
   "display_name": "Python 3",
   "language": "python",
   "name": "python3"
  },
  "language_info": {
   "codemirror_mode": {
    "name": "ipython",
    "version": 3
   },
   "file_extension": ".py",
   "mimetype": "text/x-python",
   "name": "python",
   "nbconvert_exporter": "python",
   "pygments_lexer": "ipython3",
   "version": "3.6.2"
  }
 },
 "nbformat": 4,
 "nbformat_minor": 2
}
