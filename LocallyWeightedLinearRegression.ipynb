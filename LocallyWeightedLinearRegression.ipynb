{
 "cells": [
  {
   "cell_type": "markdown",
   "metadata": {
    "deletable": true,
    "editable": true
   },
   "source": [
    "# Linear Regression - part 2\n",
    "\n",
    "## Seoul Artificial Intelligence Meetup\n",
    "\n",
    "Martin Kersner, <m.kersner@gmail.com>\n",
    "\n",
    "2017/11/11"
   ]
  },
  {
   "cell_type": "code",
   "execution_count": 1,
   "metadata": {
    "collapsed": true,
    "deletable": true,
    "editable": true
   },
   "outputs": [],
   "source": [
    "import numpy as np\n",
    "from sklearn.metrics import r2_score\n",
    "import matplotlib\n",
    "import matplotlib.pyplot as plt\n",
    "plt.rcParams['axes.labelsize'] = 14\n",
    "plt.rcParams['xtick.labelsize'] = 12\n",
    "plt.rcParams['ytick.labelsize'] = 12\n",
    "\n",
    "%matplotlib inline"
   ]
  },
  {
   "cell_type": "markdown",
   "metadata": {
    "deletable": true,
    "editable": true
   },
   "source": [
    "## Simple dataset"
   ]
  },
  {
   "cell_type": "code",
   "execution_count": 2,
   "metadata": {
    "collapsed": true,
    "deletable": true,
    "editable": true
   },
   "outputs": [],
   "source": [
    "X = np.matrix([[1, 2, 3, 4, 5]]).T\n",
    "y = np.matrix([[0, 3, 2, 4.5, 8]]).T\n",
    "\n",
    "# If features were not standardized, we have to add ones as a first column to data matrix\n",
    "X = np.c_[np.ones(X.shape[0]), X]"
   ]
  },
  {
   "cell_type": "markdown",
   "metadata": {
    "deletable": true,
    "editable": true
   },
   "source": [
    "## Locally weighted linear regression\n",
    "\n",
    "Linear regression usually underfits the data.\n",
    "\n",
    "\n",
    "### Fit\n",
    "$\\hat{\\beta} = (X^{T}WX)^{-1}X^{T}Wy$\n",
    "\n",
    "$W$ is matrix (kernel) for weighing data points\n",
    "\n",
    "**Gaussian kernel**\n",
    "\n",
    "$w(i,i) = exp(\\frac{|x^{i}-x|}{-2k^2})$\n",
    "\n",
    "### Predict\n",
    "\n",
    "### Assumption\n",
    "m > n"
   ]
  },
  {
   "cell_type": "code",
   "execution_count": 3,
   "metadata": {
    "collapsed": true,
    "deletable": true,
    "editable": true
   },
   "outputs": [],
   "source": [
    "# Inspired by book Machine Learning in Action, Peter Harrington\n",
    "def gaussian(X, k=1.0):\n",
    "    return np.asscalar(np.exp(X*X.T / (-2.0*k**2)))\n",
    "\n",
    "def create_kernel(X, X_i, kernel=\"gaussian\", k=1.0):\n",
    "    \"\"\"Apply `kernel` as a distance function between given data point `X_i`\n",
    "    and data matrix `X` containing all data points.\n",
    "    \n",
    "    Args\n",
    "    X    data matrix\n",
    "    X_i  data point\n",
    "    \"\"\"\n",
    "    def apply_kernel(X_j):\n",
    "        diff_mat = X_j - X_i\n",
    "        return eval(kernel)(diff_mat, k)\n",
    "    \n",
    "    w = np.apply_along_axis(apply_kernel, axis=1, arr=X)\n",
    "\n",
    "    return np.diag(w)"
   ]
  },
  {
   "cell_type": "markdown",
   "metadata": {
    "deletable": true,
    "editable": true
   },
   "source": [
    "### Importance of neighboring data points"
   ]
  },
  {
   "cell_type": "code",
   "execution_count": 4,
   "metadata": {
    "collapsed": false
   },
   "outputs": [],
   "source": [
    "def apply_and_plot_gaussian_kernel(k=1.0):\n",
    "    def gaussian(X, k=1.0):\n",
    "        return np.exp(np.square(X) / (-2.0*k**2))\n",
    "\n",
    "    fig = plt.figure()\n",
    "    ax = fig.add_subplot(111)\n",
    "    data_range = np.arange(-1, 1.05, 0.05)\n",
    "    weights = gaussian(data_range, k)\n",
    "    ax.plot(data_range, weights, marker='o', linestyle='-')\n",
    "    plt.title(\"k={}\".format(k))"
   ]
  },
  {
   "cell_type": "markdown",
   "metadata": {
    "deletable": true,
    "editable": true
   },
   "source": [
    "### k=1.0"
   ]
  },
  {
   "cell_type": "code",
   "execution_count": 5,
   "metadata": {
    "collapsed": false,
    "deletable": true,
    "editable": true,
    "scrolled": false
   },
   "outputs": [
    {
     "data": {
      "image/png": "[encoded data removed]",
      "text/plain": [
       "<matplotlib.figure.Figure at 0x7fa18427b208>"
      ]
     },
     "metadata": {},
     "output_type": "display_data"
    }
   ],
   "source": [
    "apply_and_plot_gaussian_kernel(k=1.0)"
   ]
  },
  {
   "cell_type": "markdown",
   "metadata": {
    "deletable": true,
    "editable": true
   },
   "source": [
    "### k=0.5"
   ]
  },
  {
   "cell_type": "code",
   "execution_count": 6,
   "metadata": {
    "collapsed": false,
    "deletable": true,
    "editable": true,
    "scrolled": false
   },
   "outputs": [
    {
     "data": {
      "image/png": "[encoded data removed]",
      "text/plain": [
       "<matplotlib.figure.Figure at 0x7fa182200c88>"
      ]
     },
     "metadata": {},
     "output_type": "display_data"
    }
   ],
   "source": [
    "apply_and_plot_gaussian_kernel(k=0.5)"
   ]
  },
  {
   "cell_type": "markdown",
   "metadata": {
    "deletable": true,
    "editable": true
   },
   "source": [
    "### k=0.1"
   ]
  },
  {
   "cell_type": "code",
   "execution_count": 7,
   "metadata": {
    "collapsed": false,
    "deletable": true,
    "editable": true
   },
   "outputs": [
    {
     "data": {
      "image/png": "[encoded data removed]",
      "text/plain": [
       "<matplotlib.figure.Figure at 0x7fa182113a90>"
      ]
     },
     "metadata": {},
     "output_type": "display_data"
    }
   ],
   "source": [
    "apply_and_plot_gaussian_kernel(k=0.1)"
   ]
  },
  {
   "cell_type": "code",
   "execution_count": 8,
   "metadata": {
    "collapsed": true,
    "deletable": true,
    "editable": true
   },
   "outputs": [],
   "source": [
    "# Inspired by book Machine Learning in Action, Peter Harrington\n",
    "class LocallyWeightedLinearRegression(object):    \n",
    "    def fit(self, X, y):\n",
    "        self.X = X\n",
    "        self.y = y\n",
    "    \n",
    "    def _fit_one(self, X_i):\n",
    "        W = create_kernel(self.X, X_i)\n",
    "\n",
    "        WtWX = self.X.T * W * self.X\n",
    "\n",
    "        # matrix must be non-singular\n",
    "        assert(np.linalg.det(WtWX) != 0.0)\n",
    "\n",
    "        β̂  = WtWX.I * self.X.T * W * self.y\n",
    "\n",
    "        return X_i * β̂ \n",
    "    \n",
    "    def predict(self, X):\n",
    "        def apply_row(X_row):\n",
    "            return np.asscalar(self._fit_one(X_row))\n",
    "\n",
    "        β̂  = np.apply_along_axis(apply_row, axis=1, arr=X)\n",
    "\n",
    "        return np.array(β̂ )"
   ]
  },
  {
   "cell_type": "markdown",
   "metadata": {},
   "source": [
    "## Fit simple dataset"
   ]
  },
  {
   "cell_type": "code",
   "execution_count": 9,
   "metadata": {
    "collapsed": false
   },
   "outputs": [],
   "source": [
    "lwlr = LocallyWeightedLinearRegression()\n",
    "lwlr.fit(X, y)\n",
    "ŷ = lwlr.predict(X)"
   ]
  },
  {
   "cell_type": "markdown",
   "metadata": {
    "deletable": true,
    "editable": true
   },
   "source": [
    "### Display line fitted with Locally Weighted Linear Regression"
   ]
  },
  {
   "cell_type": "code",
   "execution_count": 10,
   "metadata": {
    "collapsed": false,
    "deletable": true,
    "editable": true
   },
   "outputs": [
    {
     "data": {
      "text/plain": [
       "<matplotlib.legend.Legend at 0x7fa181fb8e10>"
      ]
     },
     "execution_count": 10,
     "metadata": {},
     "output_type": "execute_result"
    },
    {
     "data": {
      "image/png": "[encoded data removed]",
      "text/plain": [
       "<matplotlib.figure.Figure at 0x7fa18217ff28>"
      ]
     },
     "metadata": {},
     "output_type": "display_data"
    }
   ],
   "source": [
    "srt_idx = X[:, 1].argsort(0)\n",
    "x_sort  = X[srt_idx][:, 0, :]\n",
    "\n",
    "fig = plt.figure()\n",
    "ax = fig.add_subplot(111)\n",
    "ax.plot(X[:,1], y,  marker='o', linestyle='', color='b', label=\"input\")\n",
    "ax.plot(x_sort[:, 1], ŷ[srt_idx],  marker='o', linestyle='-', color='r', label=\"regression\")\n",
    "plt.ylabel('Dependent variables')\n",
    "plt.xlabel('Independent variables')\n",
    "plt.legend()"
   ]
  },
  {
   "cell_type": "markdown",
   "metadata": {
    "deletable": true,
    "editable": true
   },
   "source": [
    "## Evaluation"
   ]
  },
  {
   "cell_type": "markdown",
   "metadata": {
    "deletable": true,
    "editable": true
   },
   "source": [
    "### Correlation"
   ]
  },
  {
   "cell_type": "code",
   "execution_count": 11,
   "metadata": {
    "collapsed": false,
    "deletable": true,
    "editable": true
   },
   "outputs": [
    {
     "data": {
      "text/plain": [
       "array([[ 1.       ,  0.9645694],\n",
       "       [ 0.9645694,  1.       ]])"
      ]
     },
     "execution_count": 11,
     "metadata": {},
     "output_type": "execute_result"
    }
   ],
   "source": [
    "np.corrcoef(y.T, ŷ.T)"
   ]
  },
  {
   "cell_type": "code",
   "execution_count": 12,
   "metadata": {
    "collapsed": false,
    "deletable": true,
    "editable": true
   },
   "outputs": [
    {
     "data": {
      "text/plain": [
       "0.92820941931747292"
      ]
     },
     "execution_count": 12,
     "metadata": {},
     "output_type": "execute_result"
    }
   ],
   "source": [
    "r2_score(y, ŷ)"
   ]
  }
 ],
 "metadata": {
  "kernelspec": {
   "display_name": "Python 3",
   "language": "python",
   "name": "python3"
  },
  "language_info": {
   "codemirror_mode": {
    "name": "ipython",
    "version": 3
   },
   "file_extension": ".py",
   "mimetype": "text/x-python",
   "name": "python",
   "nbconvert_exporter": "python",
   "pygments_lexer": "ipython3",
   "version": "3.6.3"
  }
 },
 "nbformat": 4,
 "nbformat_minor": 2
}
