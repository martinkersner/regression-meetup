{
 "cells": [
  {
   "cell_type": "code",
   "execution_count": 1,
   "metadata": {
    "collapsed": true
   },
   "outputs": [],
   "source": [
    "import numpy as np\n",
    "\n",
    "%matplotlib inline\n",
    "\n",
    "import matplotlib\n",
    "import matplotlib.pyplot as plt\n",
    "plt.rcParams['axes.labelsize'] = 14\n",
    "plt.rcParams['xtick.labelsize'] = 12\n",
    "plt.rcParams['ytick.labelsize'] = 12"
   ]
  },
  {
   "cell_type": "code",
   "execution_count": 2,
   "metadata": {
    "collapsed": true
   },
   "outputs": [],
   "source": [
    "X = np.matrix([[1], [2], [3], [4], [5]])\n",
    "y = np.matrix([[0], [3], [2], [4.5], [8]])\n",
    "\n",
    "# If features were not standardized, we have to add ones as a first column to data matrix\n",
    "X = np.c_[np.ones(X.shape[0]), X]"
   ]
  },
  {
   "cell_type": "markdown",
   "metadata": {},
   "source": [
    "## Locally weighted linear regression\n",
    "\n",
    "Linear regression usually underfits the data.\n",
    "\n",
    "$\\hat{w} = (X^{T}WX)^{-1}X^{T}Wy$\n",
    "\n",
    "$W$ is matrix (kernel) for weighing data points\n",
    "\n",
    "**Gaussian kernel**\n",
    "\n",
    "$w(i,i) = exp(\\frac{|x^{i}-x|}{-2k^2})$"
   ]
  },
  {
   "cell_type": "code",
   "execution_count": 3,
   "metadata": {
    "collapsed": true
   },
   "outputs": [],
   "source": [
    "# Inspired by book Machine Learning in Action, Peter Harrington\n",
    "def gaussian(X, k=1.0):\n",
    "    return np.asscalar(np.exp(X*X.T / (-2.0*k**2)))\n",
    "\n",
    "def create_kernel(X, X_i):\n",
    "    \"\"\"\n",
    "    X    data matrix\n",
    "    X_i  data point\n",
    "    \"\"\"\n",
    "    def apply_kernel(X_j):\n",
    "        diff_mat = X_j - X_i\n",
    "        return gaussian(diff_mat)\n",
    "    \n",
    "    w = np.apply_along_axis(apply_kernel, axis=1, arr=X)\n",
    "\n",
    "    return np.diag(w)\n",
    "    \n",
    "def lwlr(X, y, X_i):\n",
    "    \"\"\"\n",
    "    Compute locally weighted linear regression.\n",
    "    X_i  data point\n",
    "    X    data matrix\n",
    "    y    labels\n",
    "    \"\"\"\n",
    "    W = create_kernel(X, X_i)\n",
    "\n",
    "    WtWX = X.T * W * X\n",
    "    \n",
    "    # matrix must be non-singular\n",
    "    assert(np.linalg.det(WtWX) != 0.0)\n",
    "    \n",
    "    W_hat = WtWX.I * X.T * W * y\n",
    "    \n",
    "    return X_i * W_hat\n",
    "\n",
    "def test_lwlr(X, y, X_test):\n",
    "    \"\"\"\n",
    "    Predict\n",
    "    X       data matrix\n",
    "    y       labels\n",
    "    X_test  test data matrix \n",
    "    \"\"\"\n",
    "    def lwlr_apply(row):\n",
    "        return np.asscalar(lwlr(X, y, row))\n",
    "        \n",
    "    y_hat = np.apply_along_axis(lwlr_apply, axis=1, arr=X_test)\n",
    "    \n",
    "    return np.array(y_hat)"
   ]
  },
  {
   "cell_type": "code",
   "execution_count": 4,
   "metadata": {
    "collapsed": false
   },
   "outputs": [],
   "source": [
    "y_hat = test_lwlr(X, y, X)"
   ]
  },
  {
   "cell_type": "code",
   "execution_count": 5,
   "metadata": {
    "collapsed": false
   },
   "outputs": [
    {
     "data": {
      "text/plain": [
       "<matplotlib.text.Text at 0x7f87b8176748>"
      ]
     },
     "execution_count": 5,
     "metadata": {},
     "output_type": "execute_result"
    },
    {
     "data": {
      "image/png": "[encoded data removed]",
      "text/plain": [
       "<matplotlib.figure.Figure at 0x7f878f465438>"
      ]
     },
     "metadata": {},
     "output_type": "display_data"
    }
   ],
   "source": [
    "srt_idx = X[:, 1].argsort(0)\n",
    "x_sort  = X[srt_idx][:, 0, :]\n",
    "\n",
    "fig = plt.figure()\n",
    "ax = fig.add_subplot(111)\n",
    "ax.plot(X[:,1], y,  marker='o', linestyle='-', color='b')\n",
    "ax.plot(x_sort[:, 1], y_hat[srt_idx],  marker='o', linestyle='-', color='r')\n",
    "plt.ylabel('Dependent variables')\n",
    "plt.xlabel('Independent variables')"
   ]
  },
  {
   "cell_type": "code",
   "execution_count": 6,
   "metadata": {
    "collapsed": false
   },
   "outputs": [
    {
     "data": {
      "text/plain": [
       "array([[ 1.       ,  0.9645694],\n",
       "       [ 0.9645694,  1.       ]])"
      ]
     },
     "execution_count": 6,
     "metadata": {},
     "output_type": "execute_result"
    }
   ],
   "source": [
    "np.corrcoef(np.transpose(y), np.transpose(y_hat))"
   ]
  }
 ],
 "metadata": {
  "kernelspec": {
   "display_name": "Python 3",
   "language": "python",
   "name": "python3"
  },
  "language_info": {
   "codemirror_mode": {
    "name": "ipython",
    "version": 3
   },
   "file_extension": ".py",
   "mimetype": "text/x-python",
   "name": "python",
   "nbconvert_exporter": "python",
   "pygments_lexer": "ipython3",
   "version": "3.6.2"
  }
 },
 "nbformat": 4,
 "nbformat_minor": 2
}
