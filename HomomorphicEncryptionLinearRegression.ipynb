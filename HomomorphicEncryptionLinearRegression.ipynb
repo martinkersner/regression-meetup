{
  "nbformat": 4,
  "nbformat_minor": 0,
  "metadata": {
    "colab": {
      "name": "HomomorphicEncryptionLinearRegression.ipynb",
      "version": "0.3.2",
      "views": {},
      "default_view": {},
      "provenance": [],
      "collapsed_sections": []
    },
    "kernelspec": {
      "name": "python3",
      "display_name": "Python 3"
    }
  },
  "cells": [
    {
      "metadata": {
        "id": "LNjjPcBm8A58",
        "colab_type": "text"
      },
      "cell_type": "markdown",
      "source": [
        "# Homomorphic Encryption - Ordinary Least Square\n",
        "\n",
        "Martin Kersner, <m.kersner@gmail.com>\n",
        "\n",
        "2018/02/26"
      ]
    },
    {
      "metadata": {
        "id": "JURvNwG_sPKS",
        "colab_type": "code",
        "colab": {
          "autoexec": {
            "startup": false,
            "wait_interval": 0
          }
        }
      },
      "cell_type": "code",
      "source": [
        "import numpy as np\n",
        "import matplotlib.pyplot as plt\n",
        "from sklearn.model_selection import train_test_split\n",
        "from sklearn.metrics import r2_score"
      ],
      "execution_count": 0,
      "outputs": []
    },
    {
      "metadata": {
        "id": "EYMlvMFLuc2u",
        "colab_type": "code",
        "colab": {
          "autoexec": {
            "startup": false,
            "wait_interval": 0
          }
        }
      },
      "cell_type": "code",
      "source": [
        "# m number of data points\n",
        "# n number of features\n",
        "m = 32\n",
        "n = 1"
      ],
      "execution_count": 0,
      "outputs": []
    },
    {
      "metadata": {
        "id": "hhtTM1v814oJ",
        "colab_type": "code",
        "colab": {
          "autoexec": {
            "startup": false,
            "wait_interval": 0
          }
        }
      },
      "cell_type": "code",
      "source": [
        "def generate_1d_dataset(m, n, factor=2.0):\n",
        "  X = np.matrix(np.expand_dims(np.arange(m), 1))\n",
        "  y = X + np.random.random((m, n)) * factor\n",
        "\n",
        "  return train_test_split(X, y, test_size=0.5, random_state=42)"
      ],
      "execution_count": 0,
      "outputs": []
    },
    {
      "metadata": {
        "id": "RDNCNv9suqhy",
        "colab_type": "code",
        "colab": {
          "autoexec": {
            "startup": false,
            "wait_interval": 0
          },
          "output_extras": [
            {
              "item_id": 1
            },
            {
              "item_id": 2
            }
          ],
          "base_uri": "https://localhost:8080/",
          "height": 368
        },
        "outputId": "3d001fa0-da44-40fc-ad04-d15b78539140",
        "executionInfo": {
          "status": "ok",
          "timestamp": 1519572236529,
          "user_tz": -540,
          "elapsed": 724,
          "user": {
            "displayName": "Martin Keršner",
            "photoUrl": "//lh5.googleusercontent.com/-hL1tyE8Uj6M/AAAAAAAAAAI/AAAAAAAAAEA/jRWo1WiLZvc/s50-c-k-no/photo.jpg",
            "userId": "103913161585547195349"
          }
        }
      },
      "cell_type": "code",
      "source": [
        "X_train, X_test, y_train, y_test = generate_1d_dataset(m, n, factor=10.0)\n",
        "plt.scatter(X_train.T.tolist()[0], y_train.T.tolist()[0], label=\"train\")\n",
        "plt.scatter(X_test.T.tolist()[0], y_test.T.tolist()[0], label=\"test\")\n",
        "plt.ylabel(\"X\")\n",
        "plt.ylabel(\"y\")\n",
        "plt.legend()"
      ],
      "execution_count": 6,
      "outputs": [
        {
          "output_type": "execute_result",
          "data": {
            "text/plain": [
              "<matplotlib.legend.Legend at 0x7fdc5669a3c8>"
            ]
          },
          "metadata": {
            "tags": []
          },
          "execution_count": 6
        },
        {
          "output_type": "display_data",
          "data": {
            "image/png": "[encoded data removed]",
            "text/plain": [
              "<matplotlib.figure.Figure at 0x7fdc5894bd68>"
            ]
          },
          "metadata": {
            "tags": []
          }
        }
      ]
    },
    {
      "metadata": {
        "id": "yUSSyyeUsddZ",
        "colab_type": "code",
        "colab": {
          "autoexec": {
            "startup": false,
            "wait_interval": 0
          }
        }
      },
      "cell_type": "code",
      "source": [
        "class HomomorphicEncoder(object):\n",
        "  def __init__(self, m, n):\n",
        "    self.m = m\n",
        "    self.n = n\n",
        "    self.U = self._orthogonal_matrix(self.m, self.m)\n",
        "    \n",
        "  def _orthogonal_matrix(self, m, n):\n",
        "    q, _ = np.linalg.qr(np.random.random(size=(m, n)))\n",
        "    assert q.shape == (m, n)\n",
        "    return q\n",
        "  \n",
        "  def _encrypt(self, v):\n",
        "    v̂ = self.U @ v\n",
        "    assert v.shape == v̂.shape\n",
        "    return v̂\n",
        "  \n",
        "  def _decrypt(self, v̂): \n",
        "    v = self.U.T @ v̂\n",
        "    assert v.shape == v̂.shape\n",
        "    return v\n",
        "  \n",
        "  def encrypt(self, X, y):\n",
        "    return self._encrypt(X), self._encrypt(y)\n",
        "  \n",
        "  def test(self):\n",
        "    value = np.random.random((self.m, self.n))\n",
        "    value_enc = self._encrypt(value)\n",
        "    value_dec = self._decrypt(value_enc)\n",
        "    assert np.isclose(np.sum(value - value_dec), 0.0)"
      ],
      "execution_count": 0,
      "outputs": []
    },
    {
      "metadata": {
        "id": "dXS8_HLC8zzZ",
        "colab_type": "code",
        "colab": {
          "autoexec": {
            "startup": false,
            "wait_interval": 0
          }
        }
      },
      "cell_type": "code",
      "source": [
        "hme = HomomorphicEncoder(*X_train.shape)\n",
        "hme.test()\n",
        "\n",
        "X̃_train, ỹ_train = hme.encrypt(X_train, y_train)\n",
        "X̃_test, ỹ_test = hme.encrypt(X_test, y_test)"
      ],
      "execution_count": 0,
      "outputs": []
    },
    {
      "metadata": {
        "id": "yykJklaxaxDy",
        "colab_type": "code",
        "colab": {
          "autoexec": {
            "startup": false,
            "wait_interval": 0
          },
          "output_extras": [
            {
              "item_id": 1
            },
            {
              "item_id": 2
            }
          ],
          "base_uri": "https://localhost:8080/",
          "height": 379
        },
        "outputId": "1b7c12e9-629c-48e2-e493-8bc1827045c8",
        "executionInfo": {
          "status": "ok",
          "timestamp": 1519572239064,
          "user_tz": -540,
          "elapsed": 729,
          "user": {
            "displayName": "Martin Keršner",
            "photoUrl": "//lh5.googleusercontent.com/-hL1tyE8Uj6M/AAAAAAAAAAI/AAAAAAAAAEA/jRWo1WiLZvc/s50-c-k-no/photo.jpg",
            "userId": "103913161585547195349"
          }
        }
      },
      "cell_type": "code",
      "source": [
        "plt.scatter(X_train.T.tolist()[0], y_train.T.tolist()[0], label=\"original\")\n",
        "plt.scatter(X̃_train.T.tolist()[0], ỹ_train.T.tolist()[0], label=\"encrypted\")\n",
        "plt.title(\"Similarity between original and encrypted data\")\n",
        "plt.ylabel(\"X\")\n",
        "plt.ylabel(\"y\")\n",
        "plt.legend()"
      ],
      "execution_count": 9,
      "outputs": [
        {
          "output_type": "execute_result",
          "data": {
            "text/plain": [
              "<matplotlib.legend.Legend at 0x7fdc5664e9e8>"
            ]
          },
          "metadata": {
            "tags": []
          },
          "execution_count": 9
        },
        {
          "output_type": "display_data",
          "data": {
            "image/png": "[encoded data removed]",
            "text/plain": [
              "<matplotlib.figure.Figure at 0x7fdc5667afd0>"
            ]
          },
          "metadata": {
            "tags": []
          }
        }
      ]
    },
    {
      "metadata": {
        "id": "7tstx31Kz2Vm",
        "colab_type": "code",
        "colab": {
          "autoexec": {
            "startup": false,
            "wait_interval": 0
          }
        }
      },
      "cell_type": "code",
      "source": [
        "class OrdinaryLeastSquares(object):\n",
        "  def __init__(self):\n",
        "    self.β̂ = None\n",
        "\n",
        "  def fit(self, X, y):\n",
        "    XtX = X.T @ X\n",
        "\n",
        "    # matrix must be non-singular\n",
        "    assert np.linalg.det(XtX) != 0.0\n",
        "\n",
        "    self.β̂ = XtX.I @ X.T @ y\n",
        "\n",
        "  def predict(self, X):\n",
        "    return X @ self.β̂"
      ],
      "execution_count": 0,
      "outputs": []
    },
    {
      "metadata": {
        "id": "wZ_QjFBffDas",
        "colab_type": "text"
      },
      "cell_type": "markdown",
      "source": [
        "## Training and prediction on original (unencrypted) data"
      ]
    },
    {
      "metadata": {
        "id": "YlbZMLXXe33z",
        "colab_type": "code",
        "colab": {
          "autoexec": {
            "startup": false,
            "wait_interval": 0
          },
          "output_extras": [
            {
              "item_id": 1
            }
          ],
          "base_uri": "https://localhost:8080/",
          "height": 34
        },
        "outputId": "519554d6-9868-4e21-99b0-76705d900880",
        "executionInfo": {
          "status": "ok",
          "timestamp": 1519572240778,
          "user_tz": -540,
          "elapsed": 781,
          "user": {
            "displayName": "Martin Keršner",
            "photoUrl": "//lh5.googleusercontent.com/-hL1tyE8Uj6M/AAAAAAAAAAI/AAAAAAAAAEA/jRWo1WiLZvc/s50-c-k-no/photo.jpg",
            "userId": "103913161585547195349"
          }
        }
      },
      "cell_type": "code",
      "source": [
        "ols_orig = OrdinaryLeastSquares()\n",
        "ols_orig.fit(X_train, y_train)\n",
        "y_pred_orig = ols_orig.predict(X_test)\n",
        "print(f\"R-squared: {r2_score(y_test, y_pred_orig)}\")"
      ],
      "execution_count": 11,
      "outputs": [
        {
          "output_type": "stream",
          "text": [
            "R-squared: 0.9006504589880691\n"
          ],
          "name": "stdout"
        }
      ]
    },
    {
      "metadata": {
        "id": "ly9M1hfRfL4c",
        "colab_type": "text"
      },
      "cell_type": "markdown",
      "source": [
        "## Training and prediction on encrypted data"
      ]
    },
    {
      "metadata": {
        "id": "zyfcRHvg0jdI",
        "colab_type": "code",
        "colab": {
          "autoexec": {
            "startup": false,
            "wait_interval": 0
          },
          "output_extras": [
            {
              "item_id": 1
            }
          ],
          "base_uri": "https://localhost:8080/",
          "height": 34
        },
        "outputId": "a69ccf1b-19fc-4ebc-b008-009d6d25e612",
        "executionInfo": {
          "status": "ok",
          "timestamp": 1519572241599,
          "user_tz": -540,
          "elapsed": 690,
          "user": {
            "displayName": "Martin Keršner",
            "photoUrl": "//lh5.googleusercontent.com/-hL1tyE8Uj6M/AAAAAAAAAAI/AAAAAAAAAEA/jRWo1WiLZvc/s50-c-k-no/photo.jpg",
            "userId": "103913161585547195349"
          }
        }
      },
      "cell_type": "code",
      "source": [
        "ols_homo = OrdinaryLeastSquares()\n",
        "ols_homo.fit(X̃_train, ỹ_train)\n",
        "y_pred_homo = hme._decrypt(ols_homo.predict(X̃_test))\n",
        "print(f\"R-squared: {r2_score(y_test, y_pred_homo)}\")"
      ],
      "execution_count": 12,
      "outputs": [
        {
          "output_type": "stream",
          "text": [
            "R-squared: 0.900650458988069\n"
          ],
          "name": "stdout"
        }
      ]
    },
    {
      "metadata": {
        "id": "uWfYDlxvc1g2",
        "colab_type": "code",
        "colab": {
          "autoexec": {
            "startup": false,
            "wait_interval": 0
          },
          "output_extras": [
            {
              "item_id": 1
            },
            {
              "item_id": 2
            }
          ],
          "base_uri": "https://localhost:8080/",
          "height": 364
        },
        "outputId": "c626b70a-e175-43f2-8f46-2665c64bfc93",
        "executionInfo": {
          "status": "ok",
          "timestamp": 1519572242577,
          "user_tz": -540,
          "elapsed": 861,
          "user": {
            "displayName": "Martin Keršner",
            "photoUrl": "//lh5.googleusercontent.com/-hL1tyE8Uj6M/AAAAAAAAAAI/AAAAAAAAAEA/jRWo1WiLZvc/s50-c-k-no/photo.jpg",
            "userId": "103913161585547195349"
          }
        }
      },
      "cell_type": "code",
      "source": [
        "plt.scatter(X_test.T.tolist()[0], y_test.T.tolist()[0], label=\"test\")\n",
        "plt.scatter(X_test.T.tolist()[0], y_pred_homo.T.tolist()[0], label=\"predict\")\n",
        "plt.ylabel(\"X\")\n",
        "plt.ylabel(\"y\")\n",
        "plt.legend()"
      ],
      "execution_count": 13,
      "outputs": [
        {
          "output_type": "execute_result",
          "data": {
            "text/plain": [
              "<matplotlib.legend.Legend at 0x7fdc565c12b0>"
            ]
          },
          "metadata": {
            "tags": []
          },
          "execution_count": 13
        },
        {
          "output_type": "display_data",
          "data": {
            "image/png": "[encoded data removed]",
            "text/plain": [
              "<matplotlib.figure.Figure at 0x7fdc56658898>"
            ]
          },
          "metadata": {
            "tags": []
          }
        }
      ]
    }
  ]
}