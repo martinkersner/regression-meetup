{
 "cells": [
  {
   "cell_type": "markdown",
   "metadata": {},
   "source": [
    "# Linear Regression - part 2\n",
    "\n",
    "## Seoul Artificial Intelligence Meetup\n",
    "\n",
    "Martin Kersner, <m.kersner@gmail.com>\n",
    "\n",
    "2017/11/11"
   ]
  },
  {
   "cell_type": "code",
   "execution_count": 1,
   "metadata": {},
   "outputs": [],
   "source": [
    "import numpy as np\n",
    "from sklearn.metrics import r2_score\n",
    "import matplotlib\n",
    "import matplotlib.pyplot as plt\n",
    "plt.rcParams['axes.labelsize'] = 14\n",
    "plt.rcParams['xtick.labelsize'] = 12\n",
    "plt.rcParams['ytick.labelsize'] = 12\n",
    "\n",
    "%matplotlib inline"
   ]
  },
  {
   "cell_type": "markdown",
   "metadata": {},
   "source": [
    "## Ordinary Least Squares\n",
    "\n",
    "### Fit\n",
    "$\\hat{\\beta} = (X^{T}X)^{-1}X^{T}y$\n",
    "\n",
    "### Predict\n",
    "$\\hat{y} = X\\hat{\\beta}$\n",
    "\n",
    "### Assumption\n",
    "$m$ > $n$"
   ]
  },
  {
   "cell_type": "code",
   "execution_count": 2,
   "metadata": {},
   "outputs": [],
   "source": [
    "# Inspired by book Machine Learning in Action, Peter Harrington\n",
    "class OrdinaryLeastSquares(object):\n",
    "    def __init__(self):\n",
    "        self.β̂  = None\n",
    "\n",
    "    def fit(self, X, y):\n",
    "        XtX = X.T*X\n",
    "\n",
    "        # matrix must be non-singular\n",
    "        assert(np.linalg.det(XtX) != 0.0)\n",
    "\n",
    "        self.β̂  = XtX.I*X.T*y\n",
    "    \n",
    "    def predict(self, X):\n",
    "        return X*self.β̂ "
   ]
  },
  {
   "cell_type": "markdown",
   "metadata": {},
   "source": [
    "## Dataset"
   ]
  },
  {
   "cell_type": "code",
   "execution_count": 3,
   "metadata": {},
   "outputs": [],
   "source": [
    "X_orig = np.matrix([-3, -2, -1, 0, 1, 2, 3]).T\n",
    "y = np.matrix([9, 4, 1, 0, 1, 4, 9]).T"
   ]
  },
  {
   "cell_type": "code",
   "execution_count": 4,
   "metadata": {
    "scrolled": true
   },
   "outputs": [
    {
     "data": {
      "text/plain": [
       "<matplotlib.legend.Legend at 0x106454ba8>"
      ]
     },
     "execution_count": 4,
     "metadata": {},
     "output_type": "execute_result"
    },
    {
     "data": {
      "image/png": "[encoded data removed]",
      "text/plain": [
       "<matplotlib.figure.Figure at 0x106407588>"
      ]
     },
     "metadata": {},
     "output_type": "display_data"
    }
   ],
   "source": [
    "fig = plt.figure()\n",
    "ax = fig.add_subplot(111)\n",
    "ax.plot(X_orig, y, color='b', linestyle=\"\", marker=\"o\", label=\"input\")\n",
    "plt.ylabel('Dependent variables')\n",
    "plt.xlabel('Independent variables')\n",
    "plt.legend()"
   ]
  },
  {
   "cell_type": "markdown",
   "metadata": {},
   "source": [
    "## Ordinary Least Squares"
   ]
  },
  {
   "cell_type": "code",
   "execution_count": 5,
   "metadata": {},
   "outputs": [],
   "source": [
    "# Preprocess data\n",
    "X = np.c_[np.ones(X_orig.shape[0]), X_orig]\n",
    "\n",
    "# Fit and Predict\n",
    "ols = OrdinaryLeastSquares()\n",
    "ols.fit(X, y)\n",
    "ŷ = ols.predict(X)"
   ]
  },
  {
   "cell_type": "markdown",
   "metadata": {},
   "source": [
    "### Display line fitted with Ordinary Least Squares"
   ]
  },
  {
   "cell_type": "code",
   "execution_count": 6,
   "metadata": {
    "scrolled": false
   },
   "outputs": [
    {
     "data": {
      "text/plain": [
       "<matplotlib.legend.Legend at 0x10656f240>"
      ]
     },
     "execution_count": 6,
     "metadata": {},
     "output_type": "execute_result"
    },
    {
     "data": {
      "image/png": "[encoded data removed]",
      "text/plain": [
       "<matplotlib.figure.Figure at 0x1064938d0>"
      ]
     },
     "metadata": {},
     "output_type": "display_data"
    }
   ],
   "source": [
    "fig = plt.figure()\n",
    "ax = fig.add_subplot(111)\n",
    "ax.plot(X[:,1], y, color='b', linestyle=\"\", marker=\"o\", label=\"input\")\n",
    "ax.plot(X[:,1], ŷ, marker='o', linestyle='-', color='r', label=\"regression\")\n",
    "plt.ylabel('Dependent variables')\n",
    "plt.xlabel('Independent variables')\n",
    "plt.legend()"
   ]
  },
  {
   "cell_type": "markdown",
   "metadata": {},
   "source": [
    "### Evaluation of Ordinary Least Squares"
   ]
  },
  {
   "cell_type": "markdown",
   "metadata": {},
   "source": [
    "#### Correlation"
   ]
  },
  {
   "cell_type": "code",
   "execution_count": 7,
   "metadata": {},
   "outputs": [
    {
     "name": "stderr",
     "output_type": "stream",
     "text": [
      "/Users/martin/git/regression-meetup/venv/lib/python3.6/site-packages/numpy/lib/function_base.py:3167: RuntimeWarning: invalid value encountered in true_divide\n",
      "  c /= stddev[:, None]\n",
      "/Users/martin/git/regression-meetup/venv/lib/python3.6/site-packages/numpy/lib/function_base.py:3168: RuntimeWarning: invalid value encountered in true_divide\n",
      "  c /= stddev[None, :]\n"
     ]
    },
    {
     "data": {
      "text/plain": [
       "array([[  1.,  nan],\n",
       "       [ nan,  nan]])"
      ]
     },
     "execution_count": 7,
     "metadata": {},
     "output_type": "execute_result"
    }
   ],
   "source": [
    "np.corrcoef(y.T, ŷ.T)"
   ]
  },
  {
   "cell_type": "markdown",
   "metadata": {},
   "source": [
    "#### R2"
   ]
  },
  {
   "cell_type": "code",
   "execution_count": 8,
   "metadata": {},
   "outputs": [
    {
     "data": {
      "text/plain": [
       "0.0"
      ]
     },
     "execution_count": 8,
     "metadata": {},
     "output_type": "execute_result"
    }
   ],
   "source": [
    "r2_score(y, ŷ)"
   ]
  },
  {
   "cell_type": "markdown",
   "metadata": {},
   "source": [
    "## Polynomial Regression"
   ]
  },
  {
   "cell_type": "code",
   "execution_count": 9,
   "metadata": {
    "scrolled": true
   },
   "outputs": [],
   "source": [
    "import itertools\n",
    "\n",
    "def polynomial(X, degree=2, bias=True):\n",
    "    m = X.shape[1]\n",
    "    indexes = []\n",
    "\n",
    "    # generate indexes for accessing correct features\n",
    "    for d in range(degree):\n",
    "        for idx in itertools.combinations_with_replacement(list(range(m)), d+1):\n",
    "            indexes.append(idx)\n",
    "\n",
    "    def apply_polynomial(X_row, indexes):\n",
    "        return [np.prod(X_row[0, idx]) for idx in indexes]\n",
    "    \n",
    "    X_pol = np.apply_along_axis(apply_polynomial, 1, X, indexes)\n",
    "    \n",
    "    if bias:\n",
    "        X_pol = np.c_[np.ones(X_pol.shape[0]), X_pol]\n",
    "        \n",
    "    return np.matrix(X_pol)"
   ]
  },
  {
   "cell_type": "markdown",
   "metadata": {},
   "source": [
    "### Degree 2"
   ]
  },
  {
   "cell_type": "code",
   "execution_count": 10,
   "metadata": {},
   "outputs": [
    {
     "name": "stdout",
     "output_type": "stream",
     "text": [
      "[[  0.00000000e+00]\n",
      " [  4.16333634e-17]\n",
      " [  1.00000000e+00]]\n"
     ]
    }
   ],
   "source": [
    "# Preprocess data\n",
    "X = polynomial(X_orig, degree=2)\n",
    "\n",
    "# Fit and predict\n",
    "ols = OrdinaryLeastSquares()\n",
    "ols.fit(X, y)\n",
    "ŷ2 = ols.predict(X)\n",
    "\n",
    "print(ols.β̂)"
   ]
  },
  {
   "cell_type": "markdown",
   "metadata": {},
   "source": [
    "### Degree 3"
   ]
  },
  {
   "cell_type": "code",
   "execution_count": 11,
   "metadata": {},
   "outputs": [
    {
     "name": "stdout",
     "output_type": "stream",
     "text": [
      "[[  0.00000000e+00]\n",
      " [  0.00000000e+00]\n",
      " [  1.00000000e+00]\n",
      " [ -1.38777878e-17]]\n"
     ]
    }
   ],
   "source": [
    "# Preprocess data\n",
    "X = polynomial(X_orig, degree=3)\n",
    "\n",
    "# Fit and predict\n",
    "ols = OrdinaryLeastSquares()\n",
    "ols.fit(X, y)\n",
    "ŷ3 = ols.predict(X)\n",
    "\n",
    "print(ols.β̂)"
   ]
  },
  {
   "cell_type": "markdown",
   "metadata": {},
   "source": [
    "### Display line fitted with polynomial regression of degree 2"
   ]
  },
  {
   "cell_type": "code",
   "execution_count": 12,
   "metadata": {
    "scrolled": true
   },
   "outputs": [
    {
     "data": {
      "text/plain": [
       "<matplotlib.legend.Legend at 0x1066b2b38>"
      ]
     },
     "execution_count": 12,
     "metadata": {},
     "output_type": "execute_result"
    },
    {
     "data": {
      "image/png": "[encoded data removed]",
      "text/plain": [
       "<matplotlib.figure.Figure at 0x1064e4400>"
      ]
     },
     "metadata": {},
     "output_type": "display_data"
    }
   ],
   "source": [
    "fig = plt.figure()\n",
    "ax = fig.add_subplot(111)\n",
    "ax.plot(X[:,1], y, color='b', linestyle=\"\", marker=\"o\", label=\"input\")\n",
    "ax.plot(X[:,1], ŷ2, marker='o', linestyle='-', color='r', label=\"regression\")\n",
    "plt.ylabel('Dependent variables')\n",
    "plt.xlabel('Independent variables')\n",
    "plt.legend()"
   ]
  },
  {
   "cell_type": "markdown",
   "metadata": {},
   "source": [
    "### Evaluation of Polynomial Regression of degree 2"
   ]
  },
  {
   "cell_type": "markdown",
   "metadata": {},
   "source": [
    "#### Correlation"
   ]
  },
  {
   "cell_type": "code",
   "execution_count": 13,
   "metadata": {},
   "outputs": [
    {
     "data": {
      "text/plain": [
       "array([[ 1.,  1.],\n",
       "       [ 1.,  1.]])"
      ]
     },
     "execution_count": 13,
     "metadata": {},
     "output_type": "execute_result"
    }
   ],
   "source": [
    "np.corrcoef(y.T, ŷ2.T)"
   ]
  },
  {
   "cell_type": "markdown",
   "metadata": {},
   "source": [
    "#### R2"
   ]
  },
  {
   "cell_type": "code",
   "execution_count": 14,
   "metadata": {},
   "outputs": [
    {
     "data": {
      "text/plain": [
       "1.0"
      ]
     },
     "execution_count": 14,
     "metadata": {},
     "output_type": "execute_result"
    }
   ],
   "source": [
    "r2_score(y, ŷ2)"
   ]
  }
 ],
 "metadata": {
  "kernelspec": {
   "display_name": "Python 3",
   "language": "python",
   "name": "python3"
  },
  "language_info": {
   "codemirror_mode": {
    "name": "ipython",
    "version": 3
   },
   "file_extension": ".py",
   "mimetype": "text/x-python",
   "name": "python",
   "nbconvert_exporter": "python",
   "pygments_lexer": "ipython3",
   "version": "3.6.3"
  }
 },
 "nbformat": 4,
 "nbformat_minor": 2
}
